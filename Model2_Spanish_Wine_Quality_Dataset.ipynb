{
  "nbformat": 4,
  "nbformat_minor": 0,
  "metadata": {
    "colab": {
      "provenance": [],
      "mount_file_id": "1KadbVXMRjTjX0Lcja7tKpTD86vMFj3GY",
      "authorship_tag": "ABX9TyOuvFrNMIE8iDz2u/erCCxs",
      "include_colab_link": true
    },
    "kernelspec": {
      "name": "python3",
      "display_name": "Python 3"
    },
    "language_info": {
      "name": "python"
    }
  },
  "cells": [
    {
      "cell_type": "markdown",
      "metadata": {
        "id": "view-in-github",
        "colab_type": "text"
      },
      "source": [
        "<a href=\"https://colab.research.google.com/github/hdtran103/Spanish-Wine-Quality-Dataset/blob/main/Model2_Spanish_Wine_Quality_Dataset.ipynb\" target=\"_parent\"><img src=\"https://colab.research.google.com/assets/colab-badge.svg\" alt=\"Open In Colab\"/></a>"
      ]
    },
    {
      "cell_type": "markdown",
      "source": [
        "# **Spanish Wine Quality Dataset**"
      ],
      "metadata": {
        "id": "9v208VTjIyek"
      }
    },
    {
      "cell_type": "markdown",
      "source": [
        "## **Libraries**"
      ],
      "metadata": {
        "id": "JO47oFjfIpzE"
      }
    },
    {
      "cell_type": "code",
      "execution_count": 1,
      "metadata": {
        "id": "3RfSTVckFutS"
      },
      "outputs": [],
      "source": [
        "import pandas as pd\n",
        "import numpy as np\n",
        "from imblearn.over_sampling import SMOTE, RandomOverSampler\n",
        "from sklearn.ensemble import RandomForestRegressor\n",
        "from sklearn.model_selection import train_test_split\n",
        "from sklearn.preprocessing import StandardScaler, OneHotEncoder\n",
        "from sklearn.impute import SimpleImputer\n",
        "from sklearn.linear_model import LogisticRegression\n",
        "from sklearn.ensemble import RandomForestClassifier\n",
        "from sklearn.datasets import make_classification\n",
        "from sklearn.compose import ColumnTransformer\n",
        "from sklearn.metrics import accuracy_score, classification_report\n",
        "from sklearn.metrics import mean_squared_error, r2_score\n",
        "from sklearn.model_selection import GridSearchCV\n",
        "from sklearn.model_selection import RandomizedSearchCV\n",
        "from sklearn.ensemble import RandomForestRegressor\n",
        "from tabulate import tabulate\n",
        "import matplotlib.pyplot as plt\n",
        "import seaborn as sns"
      ]
    },
    {
      "cell_type": "markdown",
      "source": [
        "## **Load the dataset**"
      ],
      "metadata": {
        "id": "Uq7MgJRHIhME"
      }
    },
    {
      "cell_type": "markdown",
      "source": [
        "### **Number of Rows : 7500**\n",
        "### **Number of Features: 10**"
      ],
      "metadata": {
        "id": "JiFrgmnvRTp8"
      }
    },
    {
      "cell_type": "code",
      "source": [
        "wine = pd.read_csv('/content/drive/MyDrive/wines_SPA.csv')\n",
        "wine.head()\n",
        "wine.info()\n",
        "# Number of Features\n",
        "num_features = wine.shape[1] - 1  # Exclude the target variable 'stroke'\n",
        "print(\"Number of Features:\", num_features)\n",
        "\n",
        "# Number of Rows\n",
        "num_rows = wine.shape[0]\n",
        "print(\"Number of Rows:\", num_rows)"
      ],
      "metadata": {
        "colab": {
          "base_uri": "https://localhost:8080/"
        },
        "id": "wCw0U7s_F8M_",
        "outputId": "0f735db7-5abe-4ae8-ecec-1f1a87b38f18"
      },
      "execution_count": 2,
      "outputs": [
        {
          "output_type": "stream",
          "name": "stdout",
          "text": [
            "<class 'pandas.core.frame.DataFrame'>\n",
            "RangeIndex: 7500 entries, 0 to 7499\n",
            "Data columns (total 11 columns):\n",
            " #   Column       Non-Null Count  Dtype  \n",
            "---  ------       --------------  -----  \n",
            " 0   winery       7500 non-null   object \n",
            " 1   wine         7500 non-null   object \n",
            " 2   year         7498 non-null   object \n",
            " 3   rating       7500 non-null   float64\n",
            " 4   num_reviews  7500 non-null   int64  \n",
            " 5   country      7500 non-null   object \n",
            " 6   region       7500 non-null   object \n",
            " 7   price        7500 non-null   float64\n",
            " 8   type         6955 non-null   object \n",
            " 9   body         6331 non-null   float64\n",
            " 10  acidity      6331 non-null   float64\n",
            "dtypes: float64(4), int64(1), object(6)\n",
            "memory usage: 644.7+ KB\n",
            "Number of Features: 10\n",
            "Number of Rows: 7500\n"
          ]
        }
      ]
    },
    {
      "cell_type": "markdown",
      "source": [
        "## **Missing Values**"
      ],
      "metadata": {
        "id": "P3csJVJ_I-Wg"
      }
    },
    {
      "cell_type": "code",
      "source": [
        "# Check missing values\n",
        "missing_values = wine.isnull().sum()\n",
        "print(missing_values)"
      ],
      "metadata": {
        "colab": {
          "base_uri": "https://localhost:8080/"
        },
        "id": "hn83h9vYJEvI",
        "outputId": "4a9b7b9d-06e0-441a-d63b-61aa5f6287da"
      },
      "execution_count": 3,
      "outputs": [
        {
          "output_type": "stream",
          "name": "stdout",
          "text": [
            "winery            0\n",
            "wine              0\n",
            "year              2\n",
            "rating            0\n",
            "num_reviews       0\n",
            "country           0\n",
            "region            0\n",
            "price             0\n",
            "type            545\n",
            "body           1169\n",
            "acidity        1169\n",
            "dtype: int64\n"
          ]
        }
      ]
    },
    {
      "cell_type": "code",
      "source": [
        "# Impute missing values\n",
        "imputer = SimpleImputer(strategy='most_frequent')\n",
        "wine['year'] = imputer.fit_transform(wine['year'].values.reshape(-1, 1))\n",
        "wine['type'] = imputer.fit_transform(wine['type'].values.reshape(-1, 1))\n",
        "wine['body'] = imputer.fit_transform(wine['body'].values.reshape(-1, 1))\n",
        "wine['acidity'] = imputer.fit_transform(wine['acidity'].values.reshape(-1, 1))\n",
        "\n",
        "# Assuming \"rating\" as the target variable\n",
        "X = wine.drop([\"rating\"], axis=1)  # Drop irrelevant columns\n",
        "y = wine[\"rating\"]\n",
        "\n",
        "# Split the data into train and test sets\n",
        "X_train, X_test, y_train, y_test = train_test_split(X, y, test_size=0.2, random_state=42)\n",
        "\n",
        "# Define the columns for one-hot encoding and imputation\n",
        "categorical_cols = [\"winery\", \"wine\", \"year\", \"country\", \"region\", \"type\"]\n",
        "numeric_cols = [\"num_reviews\", \"price\", \"body\", \"acidity\"]\n",
        "\n",
        "# Create a ColumnTransformer to handle encoding and imputation\n",
        "preprocessor = ColumnTransformer(\n",
        "    transformers=[\n",
        "        (\"imputer\", SimpleImputer(strategy=\"mean\"), numeric_cols),\n",
        "        (\"encoder\", OneHotEncoder(handle_unknown=\"ignore\"), categorical_cols)\n",
        "    ])\n",
        "\n",
        "# Apply preprocessing to the training data\n",
        "X_train_preprocessed = preprocessor.fit_transform(X_train)\n",
        "X_test_preprocessed = preprocessor.transform(X_test)\n",
        "\n",
        "# Train a regression model\n",
        "reg_model = RandomForestRegressor()\n",
        "reg_model.fit(X_train_preprocessed, y_train)\n",
        "\n",
        "# Make predictions\n",
        "y_pred = reg_model.predict(X_test_preprocessed)\n",
        "\n",
        "# Evaluate the model\n",
        "reg_model_score = reg_model.score(X_test_preprocessed, y_test)"
      ],
      "metadata": {
        "id": "dMOkhF7nPa0j"
      },
      "execution_count": 4,
      "outputs": []
    },
    {
      "cell_type": "code",
      "source": [
        "# Evaluate the model\n",
        "mse = mean_squared_error(y_test, y_pred)\n",
        "r2 = r2_score(y_test, y_pred)\n",
        "print('Mean Squared Error:', mse)\n",
        "print('R-squared:', r2)"
      ],
      "metadata": {
        "colab": {
          "base_uri": "https://localhost:8080/"
        },
        "id": "0iLxrxx2Oy_W",
        "outputId": "cc06ac08-293b-4189-cc68-0869e822b3e7"
      },
      "execution_count": 5,
      "outputs": [
        {
          "output_type": "stream",
          "name": "stdout",
          "text": [
            "Mean Squared Error: 0.0026198846666665387\n",
            "R-squared: 0.8275328119006804\n"
          ]
        }
      ]
    },
    {
      "cell_type": "code",
      "source": [
        "# Visualize the data (if applicable)\n",
        "plt.scatter(y_test, y_pred)\n",
        "plt.xlabel('Actual Rating')\n",
        "plt.ylabel('Predicted Rating')\n",
        "plt.title('Actual vs. Predicted Rating')\n",
        "plt.show()"
      ],
      "metadata": {
        "colab": {
          "base_uri": "https://localhost:8080/",
          "height": 472
        },
        "id": "yHlOqN3FeKmC",
        "outputId": "a337e4e2-4684-485f-ec66-0caf965d9fde"
      },
      "execution_count": 6,
      "outputs": [
        {
          "output_type": "display_data",
          "data": {
            "text/plain": [
              "<Figure size 640x480 with 1 Axes>"
            ],
            "image/png": "[encoded data removed]"
          },
          "metadata": {}
        }
      ]
    },
    {
      "cell_type": "code",
      "source": [
        "sns.countplot(x='rating', data=wine)\n",
        "plt.show()"
      ],
      "metadata": {
        "colab": {
          "base_uri": "https://localhost:8080/",
          "height": 449
        },
        "id": "AQKCWc2MeTYA",
        "outputId": "8b566245-73de-4568-ce1e-dd5d5244eeae"
      },
      "execution_count": 7,
      "outputs": [
        {
          "output_type": "display_data",
          "data": {
            "text/plain": [
              "<Figure size 640x480 with 1 Axes>"
            ],
            "image/png": "[encoded data removed]"
          },
          "metadata": {}
        }
      ]
    },
    {
      "cell_type": "markdown",
      "source": [
        "## **Model Optimization**"
      ],
      "metadata": {
        "id": "tJwd2q1ofttF"
      }
    },
    {
      "cell_type": "code",
      "source": [
        "# Define the parameter grid for the random forest\n",
        "param_grid = {\n",
        "    'n_estimators': [100, 200, 300],\n",
        "    'max_depth': [None, 5, 10],\n",
        "    'min_samples_split': [2, 5, 10]\n",
        "}\n",
        "\n",
        "# Create a random forest regressor\n",
        "reg_model = RandomForestRegressor()\n",
        "\n",
        "# Perform randomized search with cross-validation\n",
        "random_search = RandomizedSearchCV(reg_model, param_distributions=param_grid, cv=5, n_iter=5, n_jobs=-1, random_state=42)\n",
        "random_search.fit(X_train_preprocessed, y_train)\n",
        "\n",
        "# Get the best model and its hyperparameters\n",
        "best_model = random_search.best_estimator_\n",
        "best_params = random_search.best_params_\n",
        "\n",
        "# Train the best model\n",
        "best_model.fit(X_train_preprocessed, y_train)\n",
        "\n",
        "# Make predictions with the best model\n",
        "y_pred = best_model.predict(X_test_preprocessed)\n",
        "\n",
        "# Evaluate the best model\n",
        "mse = mean_squared_error(y_test, y_pred)\n",
        "r2 = r2_score(y_test, y_pred)\n",
        "print('Mean Squared Error:', mse)\n",
        "print('R-squared:', r2)"
      ],
      "metadata": {
        "id": "eSFEidjwewk0"
      },
      "execution_count": null,
      "outputs": []
    },
    {
      "cell_type": "markdown",
      "source": [
        "## **Feature Importance**"
      ],
      "metadata": {
        "id": "XAWX5F0df1wl"
      }
    },
    {
      "cell_type": "code",
      "source": [
        "# Retrieve feature importances\n",
        "importance = best_model.feature_importances_\n",
        "feature_names = numeric_cols + preprocessor.transformers_[1][1].get_feature_names_out().tolist()\n",
        "\n",
        "# Create a DataFrame to store feature importances\n",
        "feature_importance_df = pd.DataFrame({'Feature': feature_names, 'Importance': importance})\n",
        "\n",
        "# Sort the DataFrame by importance in descending order\n",
        "feature_importance_df = feature_importance_df.sort_values('Importance', ascending=False)\n",
        "\n",
        "# Print the results in a tabular format\n",
        "print(tabulate(feature_importance_df, headers='keys', tablefmt='psql'))\n"
      ],
      "metadata": {
        "id": "5xFrnMFKL4ia"
      },
      "execution_count": null,
      "outputs": []
    },
    {
      "cell_type": "markdown",
      "source": [
        "## **Additional Data Exploration**"
      ],
      "metadata": {
        "id": "RtLMpPIYgRKI"
      }
    },
    {
      "cell_type": "code",
      "source": [
        "# correlation heatmap\n",
        "corr_matrix = wine.corr()\n",
        "plt.figure(figsize=(10, 8))\n",
        "sns.heatmap(corr_matrix, annot=True, cmap='coolwarm')"
      ],
      "metadata": {
        "id": "7NNnL4Hwe9vq"
      },
      "execution_count": null,
      "outputs": []
    },
    {
      "cell_type": "markdown",
      "source": [
        "## **Handling Class Imbalance**"
      ],
      "metadata": {
        "id": "5JsP5mdigYkA"
      }
    },
    {
      "cell_type": "code",
      "source": [
        "# SMOTE for oversampling the minority class\n",
        "# Generate a synthetic imbalanced dataset\n",
        "X, y = make_classification(\n",
        "    n_samples=1000,\n",
        "    n_features=20,\n",
        "    n_informative=2,\n",
        "    n_redundant=10,\n",
        "    n_clusters_per_class=1,\n",
        "    weights=[0.95],\n",
        "    flip_y=0,\n",
        "    random_state=42)\n",
        "\n",
        "# Instantiate the SMOTE oversampler\n",
        "smote = SMOTE(random_state=42)\n",
        "\n",
        "# Apply SMOTE to oversample the minority class\n",
        "X_oversampled, y_oversampled = smote.fit_resample(X, y)\n",
        "\n",
        "# Check the class distribution after oversampling\n",
        "class_counts = np.bincount(y_oversampled)\n",
        "print(\"Class distribution after oversampling:\")\n",
        "for class_label, count in enumerate(class_counts):\n",
        "    print(f\"Class {class_label}: {count} samples\")"
      ],
      "metadata": {
        "id": "Vsw2iKTNfDm8"
      },
      "execution_count": null,
      "outputs": []
    },
    {
      "cell_type": "markdown",
      "source": [
        "## **Further Preprocessing**"
      ],
      "metadata": {
        "id": "TG0NYfjJged4"
      }
    },
    {
      "cell_type": "code",
      "source": [
        "print(wine.columns)"
      ],
      "metadata": {
        "id": "K7dozP40KO3p"
      },
      "execution_count": null,
      "outputs": []
    },
    {
      "cell_type": "code",
      "source": [
        "numeric_cols = ['rating', 'num_reviews', 'price', 'body', 'acidity']\n",
        "\n",
        "Q1 = wine[numeric_cols].quantile(0.25)\n",
        "Q3 = wine[numeric_cols].quantile(0.75)\n",
        "IQR = Q3 - Q1\n",
        "\n",
        "lower_bound = Q1 - 1.5 * IQR\n",
        "upper_bound = Q3 + 1.5 * IQR\n",
        "\n",
        "outliers = (wine[numeric_cols] < lower_bound) | (wine[numeric_cols] > upper_bound)\n",
        "outliers_any = outliers.any(axis=1)\n",
        "\n",
        "wine_no_outliers = wine[~outliers_any]\n",
        "\n",
        "print(wine_no_outliers)"
      ],
      "metadata": {
        "id": "-pKaUdsgLARp"
      },
      "execution_count": null,
      "outputs": []
    },
    {
      "cell_type": "code",
      "source": [
        "print(\"Feature Importance Analysis:\\n\")\n",
        "\n",
        "# Add these lines before printing the DataFrame\n",
        "feature_importance_df.columns = [col.capitalize() for col in feature_importance_df.columns]  # Capitalize column names\n",
        "print(feature_importance_df.to_string(index=False))\n",
        "\n",
        "# Add these lines before printing the DataFrame\n",
        "feature_importance_df['Importance'] = feature_importance_df['Importance'].round(4)  # Round importance values to 4 decimal places\n",
        "print(feature_importance_df.to_string(index=False))\n",
        "\n",
        "# Add these lines before printing the DataFrame\n",
        "feature_importance_df.columns = ['Feature', 'Importance']  # Rename columns with appropriate titles\n",
        "print(feature_importance_df.to_string(index=False))"
      ],
      "metadata": {
        "id": "8pRVu6qgPXoA"
      },
      "execution_count": null,
      "outputs": []
    }
  ]
}